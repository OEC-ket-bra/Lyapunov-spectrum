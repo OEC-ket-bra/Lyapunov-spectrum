{
 "cells": [
  {
   "cell_type": "code",
   "execution_count": 1,
   "metadata": {},
   "outputs": [],
   "source": [
    "import numpy as np\n",
    "\n",
    "from lyapunov_spectrum import Lyapunov_spectrum"
   ]
  },
  {
   "cell_type": "code",
   "execution_count": 2,
   "metadata": {},
   "outputs": [],
   "source": [
    "# 時系列データの作成\n",
    "\n",
    "# Henon_Mapの場合\n",
    "from henon_map import Henon_Map\n",
    "\n",
    "map = Henon_Map(a=1.4, b=0.3)\n",
    "init_xy = [0.25, 0.25] # 初期値\n",
    "map.save(init_xy, data_num=20000, save_name='henon_map')"
   ]
  },
  {
   "cell_type": "code",
   "execution_count": 3,
   "metadata": {},
   "outputs": [],
   "source": [
    "# リアプノフスペクトルの計算準備\n",
    "\n",
    "LS_calculator = Lyapunov_spectrum(map.jacobian, N_x=2)\n",
    "time_series = np.load(\"./henon_map.npy\")"
   ]
  },
  {
   "cell_type": "code",
   "execution_count": 4,
   "metadata": {},
   "outputs": [
    {
     "name": "stdout",
     "output_type": "stream",
     "text": [
      "[ 0.41856521 -1.62253802]\n"
     ]
    }
   ],
   "source": [
    "# リアプノフスペクトルの計算\n",
    "ls = LS_calculator(time_series, 2)\n",
    "print(ls)"
   ]
  }
 ],
 "metadata": {
  "kernelspec": {
   "display_name": "RC",
   "language": "python",
   "name": "python3"
  },
  "language_info": {
   "codemirror_mode": {
    "name": "ipython",
    "version": 3
   },
   "file_extension": ".py",
   "mimetype": "text/x-python",
   "name": "python",
   "nbconvert_exporter": "python",
   "pygments_lexer": "ipython3",
   "version": "3.9.15"
  },
  "orig_nbformat": 4
 },
 "nbformat": 4,
 "nbformat_minor": 2
}
